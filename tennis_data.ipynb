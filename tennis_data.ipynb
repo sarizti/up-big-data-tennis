{
 "cells": [
  {
   "cell_type": "code",
   "execution_count": null,
   "metadata": {
    "collapsed": true,
    "ExecuteTime": {
     "start_time": "2023-04-29T06:32:46.654244Z",
     "end_time": "2023-04-29T06:32:47.152799Z"
    }
   },
   "outputs": [],
   "source": [
    "import pandas as pd\n",
    "import sqlite3\n",
    "import gdown\n",
    "import os.path\n",
    "import csv"
   ]
  },
  {
   "cell_type": "code",
   "execution_count": null,
   "outputs": [],
   "source": [
    "csv_file = 'tennis_data.csv'\n",
    "if not os.path.isfile(csv_file):\n",
    "    gdown.download(id='1k-aEbSDXA7SvyPoHD6AjFgfo79dfmkAI', output=csv_file)"
   ],
   "metadata": {
    "collapsed": false,
    "ExecuteTime": {
     "start_time": "2023-04-29T06:32:47.142032Z",
     "end_time": "2023-04-29T06:32:47.153024Z"
    }
   }
  },
  {
   "cell_type": "code",
   "execution_count": null,
   "outputs": [],
   "source": [
    "#df = pd.read_csv(csv_file)"
   ],
   "metadata": {
    "collapsed": false,
    "ExecuteTime": {
     "start_time": "2023-04-29T06:32:47.143847Z",
     "end_time": "2023-04-29T06:32:47.153080Z"
    }
   }
  },
  {
   "cell_type": "markdown",
   "source": [
    "First technique, all in a single table and from there we insert into other tables."
   ],
   "metadata": {
    "collapsed": false
   }
  },
  {
   "cell_type": "code",
   "execution_count": null,
   "outputs": [],
   "source": [
    "with open(csv_file) as f:\n",
    "    rdr = csv.reader(f)\n",
    "    headers = next(rdr)\n",
    "    rows = []\n",
    "    for row in rdr:\n",
    "        rows.append(row)"
   ],
   "metadata": {
    "collapsed": false,
    "ExecuteTime": {
     "start_time": "2023-04-29T06:32:47.146468Z",
     "end_time": "2023-04-29T06:32:47.240641Z"
    }
   }
  },
  {
   "cell_type": "code",
   "execution_count": null,
   "outputs": [],
   "source": [
    "connection = sqlite3.connect('tennis_data.db')\n",
    "cursor = connection.cursor()"
   ],
   "metadata": {
    "collapsed": false,
    "ExecuteTime": {
     "start_time": "2023-04-29T06:32:47.240727Z",
     "end_time": "2023-04-29T06:32:47.242733Z"
    }
   }
  },
  {
   "cell_type": "code",
   "execution_count": null,
   "outputs": [],
   "source": [
    "with open(\"sql/create_tables.sql\") as create_tables:\n",
    "    queries = create_tables.read()\n",
    "cursor.executescript(queries)\n",
    "connection.commit()"
   ],
   "metadata": {
    "collapsed": false,
    "ExecuteTime": {
     "start_time": "2023-04-29T06:32:47.243418Z",
     "end_time": "2023-04-29T06:32:47.337584Z"
    }
   }
  },
  {
   "cell_type": "code",
   "execution_count": null,
   "outputs": [],
   "source": [
    "query = \"\"\"\n",
    "INSERT INTO report (ATP, Location, Tournament, Date, Series, Court, Surface, Round, \"Best of\", Winner, Loser, WRank, LRank, WPts, LPts, W1, L1, W2, L2, W3, L3, W4, L4, W5, L5, Comment, pl1_flag, pl1_year_pro, pl1_weight, pl1_height, pl1_hand, pl2_flag, pl2_year_pro, pl2_weight, pl2_height, pl2_hand)\n",
    "VALUES (?, ?, ?, ?, ?, ?, ?, ?, ?, ?, ?, ?, ?, ?, ?, ?, ?, ?, ?, ?, ?, ?, ?, ?, ?, ?, ?, ?, ?, ?, ?, ?, ?, ?, ?, ?)\n",
    "\"\"\"\n",
    "cursor.executemany(query, rows)\n",
    "connection.commit()"
   ],
   "metadata": {
    "collapsed": false,
    "ExecuteTime": {
     "start_time": "2023-04-29T06:32:47.338174Z",
     "end_time": "2023-04-29T06:32:47.432546Z"
    }
   }
  },
  {
   "cell_type": "code",
   "execution_count": null,
   "outputs": [],
   "source": [
    "with open(\"sql/insert_into.sql\") as insert_into:\n",
    "    queries = insert_into.read()\n",
    "cursor.executescript(queries)\n",
    "connection.commit()\n"
   ],
   "metadata": {
    "collapsed": false,
    "ExecuteTime": {
     "start_time": "2023-04-29T06:32:47.433208Z",
     "end_time": "2023-04-29T06:32:48.081865Z"
    }
   }
  },
  {
   "cell_type": "code",
   "execution_count": null,
   "outputs": [],
   "source": [
    "query = \"\"\"\n",
    "SELECT\n",
    "    matches.id,\n",
    "    events.atp AS \"ATP\",\n",
    "    locations.name AS \"Location\",\n",
    "    tournaments.name AS \"Tournament\",\n",
    "    matches.date AS \"Date\",\n",
    "    events.series AS \"Series\",\n",
    "    courts.court AS \"Court\",\n",
    "    courts.surface AS \"Surface\",\n",
    "    matches.round AS \"Round\",\n",
    "    matches.best_of AS \"Best of\",\n",
    "    winner_player.name AS \"Winner\",\n",
    "    loser_player.name AS \"Loser\",\n",
    "    winner_player_m.new_rank AS \"WRank\",\n",
    "    loser_player_m.new_rank AS \"LRank\",\n",
    "    winner_player_m.new_points AS \"WPts\",\n",
    "    loser_player_m.new_points AS \"LPts\",\n",
    "    (SELECT games FROM players_matches_sets WHERE players_matches_id=winner_player_m.id AND set_num=1) AS \"W1\",\n",
    "    (SELECT games FROM players_matches_sets WHERE players_matches_id=loser_player_m.id AND set_num=1) AS \"L1\",\n",
    "    (SELECT games FROM players_matches_sets WHERE players_matches_id=winner_player_m.id AND set_num=2) AS \"W2\",\n",
    "    (SELECT games FROM players_matches_sets WHERE players_matches_id=loser_player_m.id AND set_num=2) AS \"L2\",\n",
    "    (SELECT games FROM players_matches_sets WHERE players_matches_id=winner_player_m.id AND set_num=3) AS \"W3\",\n",
    "    (SELECT games FROM players_matches_sets WHERE players_matches_id=loser_player_m.id AND set_num=3) AS \"L3\",\n",
    "    (SELECT games FROM players_matches_sets WHERE players_matches_id=winner_player_m.id AND set_num=4) AS \"W4\",\n",
    "    (SELECT games FROM players_matches_sets WHERE players_matches_id=loser_player_m.id AND set_num=4) AS \"L4\",\n",
    "    (SELECT games FROM players_matches_sets WHERE players_matches_id=winner_player_m.id AND set_num=5) AS \"W5\",\n",
    "    (SELECT games FROM players_matches_sets WHERE players_matches_id=loser_player_m.id AND set_num=5) AS \"L5\",\n",
    "    matches.comment AS \"Comment\",\n",
    "    winner_player.flag AS \"pl1_flag\",\n",
    "    winner_player.year_pro AS \"pl1_year_pro\",\n",
    "    winner_player.weight AS \"pl1_weight\",\n",
    "    winner_player.height AS \"pl1_height\",\n",
    "    winner_player.hand AS \"pl1_hand\",\n",
    "    loser_player.flag AS \"pl2_flag\",\n",
    "    loser_player.year_pro AS \"pl2_year_pro\",\n",
    "    loser_player.weight AS \"pl2_weight\",\n",
    "    loser_player.height AS \"pl2_height\",\n",
    "    loser_player.hand AS \"pl2_hand\"\n",
    "FROM matches\n",
    "JOIN events ON matches.event_id=events.id\n",
    "JOIN tournaments ON events.tournament_id=tournaments.id\n",
    "JOIN locations ON events.location_id=locations.id\n",
    "JOIN courts ON matches.court_id=courts.id\n",
    "JOIN players_matches AS winner_player_m ON winner_player_m.match_id=matches.id AND winner_player_m.win=TRUE\n",
    "JOIN players AS winner_player ON winner_player.id=winner_player_m.player_id\n",
    "JOIN players_matches AS loser_player_m ON loser_player_m.match_id=matches.id AND loser_player_m.win=FALSE\n",
    "JOIN players AS loser_player ON loser_player.id=loser_player_m.player_id\n",
    "ORDER BY matches.id;\n",
    "\"\"\"\n",
    "df = pd.read_sql(query, connection) #.set_index('id')"
   ],
   "metadata": {
    "collapsed": false,
    "ExecuteTime": {
     "start_time": "2023-04-29T06:32:48.081980Z",
     "end_time": "2023-04-29T06:32:48.816038Z"
    }
   }
  },
  {
   "cell_type": "code",
   "execution_count": null,
   "outputs": [],
   "source": [
    "df"
   ],
   "metadata": {
    "collapsed": false,
    "ExecuteTime": {
     "start_time": "2023-04-29T06:32:48.817418Z",
     "end_time": "2023-04-29T06:32:48.918786Z"
    }
   }
  },
  {
   "cell_type": "markdown",
   "source": [
    "Second technique, all using pandas?\n"
   ],
   "metadata": {
    "collapsed": false
   }
  }
 ],
 "metadata": {
  "kernelspec": {
   "display_name": "Python 3",
   "language": "python",
   "name": "python3"
  },
  "language_info": {
   "codemirror_mode": {
    "name": "ipython",
    "version": 2
   },
   "file_extension": ".py",
   "mimetype": "text/x-python",
   "name": "python",
   "nbconvert_exporter": "python",
   "pygments_lexer": "ipython2",
   "version": "2.7.6"
  }
 },
 "nbformat": 4,
 "nbformat_minor": 0
}
