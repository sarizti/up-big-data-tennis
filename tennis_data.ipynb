{
 "cells": [
  {
   "cell_type": "code",
   "execution_count": 4,
   "metadata": {
    "collapsed": true,
    "ExecuteTime": {
     "start_time": "2023-04-29T09:50:03.829880Z",
     "end_time": "2023-04-29T09:50:03.892377Z"
    }
   },
   "outputs": [],
   "source": [
    "import pandas as pd\n",
    "import sqlite3\n",
    "import gdown\n",
    "import os.path\n",
    "import csv"
   ]
  },
  {
   "cell_type": "code",
   "execution_count": 5,
   "outputs": [],
   "source": [
    "csv_file = 'tennis_data.csv'\n",
    "if not os.path.isfile(csv_file):\n",
    "    gdown.download(id='1k-aEbSDXA7SvyPoHD6AjFgfo79dfmkAI', output=csv_file)"
   ],
   "metadata": {
    "collapsed": false,
    "ExecuteTime": {
     "start_time": "2023-04-29T09:50:03.833808Z",
     "end_time": "2023-04-29T09:50:03.892377Z"
    }
   }
  },
  {
   "cell_type": "code",
   "execution_count": 6,
   "outputs": [],
   "source": [
    "#df = pd.read_csv(csv_file)"
   ],
   "metadata": {
    "collapsed": false,
    "ExecuteTime": {
     "start_time": "2023-04-29T09:50:03.845817Z",
     "end_time": "2023-04-29T09:50:03.892377Z"
    }
   }
  },
  {
   "cell_type": "markdown",
   "source": [
    "First technique, all in a single table and from there we insert into other tables."
   ],
   "metadata": {
    "collapsed": false
   }
  },
  {
   "cell_type": "code",
   "execution_count": 7,
   "outputs": [],
   "source": [
    "with open(csv_file) as f:\n",
    "    rdr = csv.reader(f)\n",
    "    headers = next(rdr)\n",
    "    rows = []\n",
    "    for row in rdr:\n",
    "        rows.append(row)"
   ],
   "metadata": {
    "collapsed": false,
    "ExecuteTime": {
     "start_time": "2023-04-29T09:50:03.868224Z",
     "end_time": "2023-04-29T09:50:04.438701Z"
    }
   }
  },
  {
   "cell_type": "code",
   "execution_count": 8,
   "outputs": [],
   "source": [
    "connection = sqlite3.connect('tennis_data.db')\n",
    "cursor = connection.cursor()"
   ],
   "metadata": {
    "collapsed": false,
    "ExecuteTime": {
     "start_time": "2023-04-29T09:50:04.435831Z",
     "end_time": "2023-04-29T09:50:04.448158Z"
    }
   }
  },
  {
   "cell_type": "code",
   "execution_count": 9,
   "outputs": [],
   "source": [
    "with open(\"sql/create_tables.sql\") as create_tables:\n",
    "    queries = create_tables.read()\n",
    "cursor.executescript(queries)\n",
    "connection.commit()"
   ],
   "metadata": {
    "collapsed": false,
    "ExecuteTime": {
     "start_time": "2023-04-29T09:50:04.454170Z",
     "end_time": "2023-04-29T09:50:04.556357Z"
    }
   }
  },
  {
   "cell_type": "code",
   "execution_count": 10,
   "outputs": [],
   "source": [
    "query = \"\"\"\n",
    "INSERT INTO report (ATP, Location, Tournament, Date, Series, Court, Surface, Round, \"Best of\", Winner, Loser, WRank, LRank, WPts, LPts, W1, L1, W2, L2, W3, L3, W4, L4, W5, L5, Comment, pl1_flag, pl1_year_pro, pl1_weight, pl1_height, pl1_hand, pl2_flag, pl2_year_pro, pl2_weight, pl2_height, pl2_hand)\n",
    "VALUES (?, ?, ?, ?, ?, ?, ?, ?, ?, ?, ?, ?, ?, ?, ?, ?, ?, ?, ?, ?, ?, ?, ?, ?, ?, ?, ?, ?, ?, ?, ?, ?, ?, ?, ?, ?)\n",
    "\"\"\"\n",
    "cursor.executemany(query, rows)\n",
    "connection.commit()"
   ],
   "metadata": {
    "collapsed": false,
    "ExecuteTime": {
     "start_time": "2023-04-29T09:50:04.567881Z",
     "end_time": "2023-04-29T09:50:04.790437Z"
    }
   }
  },
  {
   "cell_type": "code",
   "execution_count": 11,
   "outputs": [],
   "source": [
    "with open(\"sql/insert_into.sql\") as insert_into:\n",
    "    queries = insert_into.read()\n",
    "cursor.executescript(queries)\n",
    "connection.commit()\n"
   ],
   "metadata": {
    "collapsed": false,
    "ExecuteTime": {
     "start_time": "2023-04-29T09:50:04.798949Z",
     "end_time": "2023-04-29T09:50:07.279767Z"
    }
   }
  },
  {
   "cell_type": "code",
   "execution_count": 12,
   "outputs": [],
   "source": [
    "query = \"\"\"\n",
    "SELECT\n",
    "    matches.id,\n",
    "    events.atp AS \"ATP\",\n",
    "    locations.name AS \"Location\",\n",
    "    tournaments.name AS \"Tournament\",\n",
    "    matches.date AS \"Date\",\n",
    "    events.series AS \"Series\",\n",
    "    courts.court AS \"Court\",\n",
    "    courts.surface AS \"Surface\",\n",
    "    matches.round AS \"Round\",\n",
    "    matches.best_of AS \"Best of\",\n",
    "    winner_player.name AS \"Winner\",\n",
    "    loser_player.name AS \"Loser\",\n",
    "    winner_player_m.new_rank AS \"WRank\",\n",
    "    loser_player_m.new_rank AS \"LRank\",\n",
    "    winner_player_m.new_points AS \"WPts\",\n",
    "    loser_player_m.new_points AS \"LPts\",\n",
    "    (SELECT games FROM players_matches_sets WHERE players_matches_id=winner_player_m.id AND set_num=1) AS \"W1\",\n",
    "    (SELECT games FROM players_matches_sets WHERE players_matches_id=loser_player_m.id AND set_num=1) AS \"L1\",\n",
    "    (SELECT games FROM players_matches_sets WHERE players_matches_id=winner_player_m.id AND set_num=2) AS \"W2\",\n",
    "    (SELECT games FROM players_matches_sets WHERE players_matches_id=loser_player_m.id AND set_num=2) AS \"L2\",\n",
    "    (SELECT games FROM players_matches_sets WHERE players_matches_id=winner_player_m.id AND set_num=3) AS \"W3\",\n",
    "    (SELECT games FROM players_matches_sets WHERE players_matches_id=loser_player_m.id AND set_num=3) AS \"L3\",\n",
    "    (SELECT games FROM players_matches_sets WHERE players_matches_id=winner_player_m.id AND set_num=4) AS \"W4\",\n",
    "    (SELECT games FROM players_matches_sets WHERE players_matches_id=loser_player_m.id AND set_num=4) AS \"L4\",\n",
    "    (SELECT games FROM players_matches_sets WHERE players_matches_id=winner_player_m.id AND set_num=5) AS \"W5\",\n",
    "    (SELECT games FROM players_matches_sets WHERE players_matches_id=loser_player_m.id AND set_num=5) AS \"L5\",\n",
    "    matches.comment AS \"Comment\",\n",
    "    winner_player.flag AS \"pl1_flag\",\n",
    "    winner_player.year_pro AS \"pl1_year_pro\",\n",
    "    winner_player.weight AS \"pl1_weight\",\n",
    "    winner_player.height AS \"pl1_height\",\n",
    "    winner_player.hand AS \"pl1_hand\",\n",
    "    loser_player.flag AS \"pl2_flag\",\n",
    "    loser_player.year_pro AS \"pl2_year_pro\",\n",
    "    loser_player.weight AS \"pl2_weight\",\n",
    "    loser_player.height AS \"pl2_height\",\n",
    "    loser_player.hand AS \"pl2_hand\"\n",
    "FROM matches\n",
    "JOIN events ON matches.event_id=events.id\n",
    "JOIN tournaments ON events.tournament_id=tournaments.id\n",
    "JOIN locations ON events.location_id=locations.id\n",
    "JOIN courts ON matches.court_id=courts.id\n",
    "JOIN players_matches AS winner_player_m ON winner_player_m.match_id=matches.id AND winner_player_m.win=TRUE\n",
    "JOIN players AS winner_player ON winner_player.id=winner_player_m.player_id\n",
    "JOIN players_matches AS loser_player_m ON loser_player_m.match_id=matches.id AND loser_player_m.win=FALSE\n",
    "JOIN players AS loser_player ON loser_player.id=loser_player_m.player_id\n",
    "ORDER BY matches.id;\n",
    "\"\"\"\n",
    "df = pd.read_sql(query, connection) #.set_index('id')"
   ],
   "metadata": {
    "collapsed": false,
    "ExecuteTime": {
     "start_time": "2023-04-29T09:50:07.279767Z",
     "end_time": "2023-04-29T09:50:10.346761Z"
    }
   }
  },
  {
   "cell_type": "code",
   "execution_count": 13,
   "outputs": [
    {
     "data": {
      "text/plain": "          id  ATP  Location                Tournament        Date   \n0          1    1  Adelaide  Adelaide International 1  2022-01-03  \\\n1          2    1  Adelaide  Adelaide International 1  2022-01-03   \n2          3    1  Adelaide  Adelaide International 1  2022-01-03   \n3          4    1  Adelaide  Adelaide International 1  2022-01-03   \n4          5    1  Adelaide  Adelaide International 1  2022-01-04   \n...      ...  ...       ...                       ...         ...   \n35918  35919   65  Shanghai               Masters Cup  2008-11-14   \n35919  35920   65  Shanghai               Masters Cup  2008-11-14   \n35920  35921   65  Shanghai               Masters Cup  2008-11-15   \n35921  35922   65  Shanghai               Masters Cup  2008-11-15   \n35922  35923   65  Shanghai               Masters Cup  2008-11-16   \n\n            Series    Court Surface        Round  Best of  ... pl1_flag   \n0           ATP250  Outdoor    Hard    1st Round        3  ...      KOR  \\\n1           ATP250  Outdoor    Hard    1st Round        3  ...      BRA   \n2           ATP250  Outdoor    Hard    1st Round        3  ...      SRB   \n3           ATP250  Outdoor    Hard    1st Round        3  ...      USA   \n4           ATP250  Outdoor    Hard    1st Round        3  ...      FRA   \n...            ...      ...     ...          ...      ...  ...      ...   \n35918  Masters Cup   Indoor    Hard  Round Robin        3  ...      FRA   \n35919  Masters Cup   Indoor    Hard  Round Robin        3  ...      GBR   \n35920  Masters Cup   Indoor    Hard   Semifinals        3  ...      SRB   \n35921  Masters Cup   Indoor    Hard   Semifinals        3  ...      RUS   \n35922  Masters Cup   Indoor    Hard    The Final        3  ...      SRB   \n\n      pl1_year_pro  pl1_weight  pl1_height      pl1_hand  pl2_flag   \n0           2015.0        72.0       180.0  Right-Handed       JPN  \\\n1           2011.0        78.0       183.0   Left-Handed       GER   \n2           2013.0        80.0       185.0  Right-Handed       ESP   \n3           2012.0        86.0       188.0  Right-Handed       AUS   \n4           2016.0        71.0       175.0   Left-Handed       DEN   \n...            ...         ...         ...           ...       ...   \n35918       2002.0        70.0       183.0  Right-Handed       CZE   \n35919       2005.0        84.0       191.0  Right-Handed       SUI   \n35920       2003.0        77.0       188.0  Right-Handed       FRA   \n35921       1999.0        70.0       178.0  Right-Handed       GBR   \n35922       2003.0        77.0       188.0  Right-Handed       RUS   \n\n       pl2_year_pro  pl2_weight  pl2_height      pl2_hand  \n0            2014.0        64.0       170.0   Left-Handed  \n1            2014.0        80.0       188.0  Right-Handed  \n2            2011.0        76.0       180.0  Right-Handed  \n3            2018.0        85.0       188.0  Right-Handed  \n4            2020.0        77.0       188.0  Right-Handed  \n...             ...         ...         ...           ...  \n35918        1996.0        76.0       185.0  Right-Handed  \n35919        1998.0        85.0       185.0  Right-Handed  \n35920        2002.0        70.0       183.0  Right-Handed  \n35921        2005.0        84.0       191.0  Right-Handed  \n35922        1999.0        70.0       178.0  Right-Handed  \n\n[35923 rows x 37 columns]",
      "text/html": "<div>\n<style scoped>\n    .dataframe tbody tr th:only-of-type {\n        vertical-align: middle;\n    }\n\n    .dataframe tbody tr th {\n        vertical-align: top;\n    }\n\n    .dataframe thead th {\n        text-align: right;\n    }\n</style>\n<table border=\"1\" class=\"dataframe\">\n  <thead>\n    <tr style=\"text-align: right;\">\n      <th></th>\n      <th>id</th>\n      <th>ATP</th>\n      <th>Location</th>\n      <th>Tournament</th>\n      <th>Date</th>\n      <th>Series</th>\n      <th>Court</th>\n      <th>Surface</th>\n      <th>Round</th>\n      <th>Best of</th>\n      <th>...</th>\n      <th>pl1_flag</th>\n      <th>pl1_year_pro</th>\n      <th>pl1_weight</th>\n      <th>pl1_height</th>\n      <th>pl1_hand</th>\n      <th>pl2_flag</th>\n      <th>pl2_year_pro</th>\n      <th>pl2_weight</th>\n      <th>pl2_height</th>\n      <th>pl2_hand</th>\n    </tr>\n  </thead>\n  <tbody>\n    <tr>\n      <th>0</th>\n      <td>1</td>\n      <td>1</td>\n      <td>Adelaide</td>\n      <td>Adelaide International 1</td>\n      <td>2022-01-03</td>\n      <td>ATP250</td>\n      <td>Outdoor</td>\n      <td>Hard</td>\n      <td>1st Round</td>\n      <td>3</td>\n      <td>...</td>\n      <td>KOR</td>\n      <td>2015.0</td>\n      <td>72.0</td>\n      <td>180.0</td>\n      <td>Right-Handed</td>\n      <td>JPN</td>\n      <td>2014.0</td>\n      <td>64.0</td>\n      <td>170.0</td>\n      <td>Left-Handed</td>\n    </tr>\n    <tr>\n      <th>1</th>\n      <td>2</td>\n      <td>1</td>\n      <td>Adelaide</td>\n      <td>Adelaide International 1</td>\n      <td>2022-01-03</td>\n      <td>ATP250</td>\n      <td>Outdoor</td>\n      <td>Hard</td>\n      <td>1st Round</td>\n      <td>3</td>\n      <td>...</td>\n      <td>BRA</td>\n      <td>2011.0</td>\n      <td>78.0</td>\n      <td>183.0</td>\n      <td>Left-Handed</td>\n      <td>GER</td>\n      <td>2014.0</td>\n      <td>80.0</td>\n      <td>188.0</td>\n      <td>Right-Handed</td>\n    </tr>\n    <tr>\n      <th>2</th>\n      <td>3</td>\n      <td>1</td>\n      <td>Adelaide</td>\n      <td>Adelaide International 1</td>\n      <td>2022-01-03</td>\n      <td>ATP250</td>\n      <td>Outdoor</td>\n      <td>Hard</td>\n      <td>1st Round</td>\n      <td>3</td>\n      <td>...</td>\n      <td>SRB</td>\n      <td>2013.0</td>\n      <td>80.0</td>\n      <td>185.0</td>\n      <td>Right-Handed</td>\n      <td>ESP</td>\n      <td>2011.0</td>\n      <td>76.0</td>\n      <td>180.0</td>\n      <td>Right-Handed</td>\n    </tr>\n    <tr>\n      <th>3</th>\n      <td>4</td>\n      <td>1</td>\n      <td>Adelaide</td>\n      <td>Adelaide International 1</td>\n      <td>2022-01-03</td>\n      <td>ATP250</td>\n      <td>Outdoor</td>\n      <td>Hard</td>\n      <td>1st Round</td>\n      <td>3</td>\n      <td>...</td>\n      <td>USA</td>\n      <td>2012.0</td>\n      <td>86.0</td>\n      <td>188.0</td>\n      <td>Right-Handed</td>\n      <td>AUS</td>\n      <td>2018.0</td>\n      <td>85.0</td>\n      <td>188.0</td>\n      <td>Right-Handed</td>\n    </tr>\n    <tr>\n      <th>4</th>\n      <td>5</td>\n      <td>1</td>\n      <td>Adelaide</td>\n      <td>Adelaide International 1</td>\n      <td>2022-01-04</td>\n      <td>ATP250</td>\n      <td>Outdoor</td>\n      <td>Hard</td>\n      <td>1st Round</td>\n      <td>3</td>\n      <td>...</td>\n      <td>FRA</td>\n      <td>2016.0</td>\n      <td>71.0</td>\n      <td>175.0</td>\n      <td>Left-Handed</td>\n      <td>DEN</td>\n      <td>2020.0</td>\n      <td>77.0</td>\n      <td>188.0</td>\n      <td>Right-Handed</td>\n    </tr>\n    <tr>\n      <th>...</th>\n      <td>...</td>\n      <td>...</td>\n      <td>...</td>\n      <td>...</td>\n      <td>...</td>\n      <td>...</td>\n      <td>...</td>\n      <td>...</td>\n      <td>...</td>\n      <td>...</td>\n      <td>...</td>\n      <td>...</td>\n      <td>...</td>\n      <td>...</td>\n      <td>...</td>\n      <td>...</td>\n      <td>...</td>\n      <td>...</td>\n      <td>...</td>\n      <td>...</td>\n      <td>...</td>\n    </tr>\n    <tr>\n      <th>35918</th>\n      <td>35919</td>\n      <td>65</td>\n      <td>Shanghai</td>\n      <td>Masters Cup</td>\n      <td>2008-11-14</td>\n      <td>Masters Cup</td>\n      <td>Indoor</td>\n      <td>Hard</td>\n      <td>Round Robin</td>\n      <td>3</td>\n      <td>...</td>\n      <td>FRA</td>\n      <td>2002.0</td>\n      <td>70.0</td>\n      <td>183.0</td>\n      <td>Right-Handed</td>\n      <td>CZE</td>\n      <td>1996.0</td>\n      <td>76.0</td>\n      <td>185.0</td>\n      <td>Right-Handed</td>\n    </tr>\n    <tr>\n      <th>35919</th>\n      <td>35920</td>\n      <td>65</td>\n      <td>Shanghai</td>\n      <td>Masters Cup</td>\n      <td>2008-11-14</td>\n      <td>Masters Cup</td>\n      <td>Indoor</td>\n      <td>Hard</td>\n      <td>Round Robin</td>\n      <td>3</td>\n      <td>...</td>\n      <td>GBR</td>\n      <td>2005.0</td>\n      <td>84.0</td>\n      <td>191.0</td>\n      <td>Right-Handed</td>\n      <td>SUI</td>\n      <td>1998.0</td>\n      <td>85.0</td>\n      <td>185.0</td>\n      <td>Right-Handed</td>\n    </tr>\n    <tr>\n      <th>35920</th>\n      <td>35921</td>\n      <td>65</td>\n      <td>Shanghai</td>\n      <td>Masters Cup</td>\n      <td>2008-11-15</td>\n      <td>Masters Cup</td>\n      <td>Indoor</td>\n      <td>Hard</td>\n      <td>Semifinals</td>\n      <td>3</td>\n      <td>...</td>\n      <td>SRB</td>\n      <td>2003.0</td>\n      <td>77.0</td>\n      <td>188.0</td>\n      <td>Right-Handed</td>\n      <td>FRA</td>\n      <td>2002.0</td>\n      <td>70.0</td>\n      <td>183.0</td>\n      <td>Right-Handed</td>\n    </tr>\n    <tr>\n      <th>35921</th>\n      <td>35922</td>\n      <td>65</td>\n      <td>Shanghai</td>\n      <td>Masters Cup</td>\n      <td>2008-11-15</td>\n      <td>Masters Cup</td>\n      <td>Indoor</td>\n      <td>Hard</td>\n      <td>Semifinals</td>\n      <td>3</td>\n      <td>...</td>\n      <td>RUS</td>\n      <td>1999.0</td>\n      <td>70.0</td>\n      <td>178.0</td>\n      <td>Right-Handed</td>\n      <td>GBR</td>\n      <td>2005.0</td>\n      <td>84.0</td>\n      <td>191.0</td>\n      <td>Right-Handed</td>\n    </tr>\n    <tr>\n      <th>35922</th>\n      <td>35923</td>\n      <td>65</td>\n      <td>Shanghai</td>\n      <td>Masters Cup</td>\n      <td>2008-11-16</td>\n      <td>Masters Cup</td>\n      <td>Indoor</td>\n      <td>Hard</td>\n      <td>The Final</td>\n      <td>3</td>\n      <td>...</td>\n      <td>SRB</td>\n      <td>2003.0</td>\n      <td>77.0</td>\n      <td>188.0</td>\n      <td>Right-Handed</td>\n      <td>RUS</td>\n      <td>1999.0</td>\n      <td>70.0</td>\n      <td>178.0</td>\n      <td>Right-Handed</td>\n    </tr>\n  </tbody>\n</table>\n<p>35923 rows × 37 columns</p>\n</div>"
     },
     "execution_count": 13,
     "metadata": {},
     "output_type": "execute_result"
    }
   ],
   "source": [
    "df"
   ],
   "metadata": {
    "collapsed": false,
    "ExecuteTime": {
     "start_time": "2023-04-29T09:50:10.352771Z",
     "end_time": "2023-04-29T09:50:10.494539Z"
    }
   }
  },
  {
   "cell_type": "markdown",
   "source": [
    "Second technique, all using pandas?\n"
   ],
   "metadata": {
    "collapsed": false
   }
  }
 ],
 "metadata": {
  "kernelspec": {
   "display_name": "Python 3",
   "language": "python",
   "name": "python3"
  },
  "language_info": {
   "codemirror_mode": {
    "name": "ipython",
    "version": 2
   },
   "file_extension": ".py",
   "mimetype": "text/x-python",
   "name": "python",
   "nbconvert_exporter": "python",
   "pygments_lexer": "ipython2",
   "version": "2.7.6"
  }
 },
 "nbformat": 4,
 "nbformat_minor": 0
}
